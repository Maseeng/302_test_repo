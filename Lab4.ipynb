{
  "nbformat": 4,
  "nbformat_minor": 0,
  "metadata": {
    "colab": {
      "name": "Lab4.ipynb",
      "provenance": [],
      "collapsed_sections": [],
      "authorship_tag": "ABX9TyOi8r+ESf8olSAqgM6tNIgV",
      "include_colab_link": true
    },
    "kernelspec": {
      "name": "python2",
      "display_name": "Python 2"
    }
  },
  "cells": [
    {
      "cell_type": "markdown",
      "metadata": {
        "id": "view-in-github",
        "colab_type": "text"
      },
      "source": [
        "<a href=\"https://colab.research.google.com/github/Maseeng/302_test_repo/blob/master/Lab4.ipynb\" target=\"_parent\"><img src=\"https://colab.research.google.com/assets/colab-badge.svg\" alt=\"Open In Colab\"/></a>"
      ]
    },
    {
      "cell_type": "code",
      "metadata": {
        "id": "ego9eVPTsl9L",
        "colab_type": "code",
        "outputId": "c7ac2a7c-4d51-4342-89b0-a43f4f55220f",
        "colab": {
          "base_uri": "https://localhost:8080/",
          "height": 34
        }
      },
      "source": [
        "#Maseeng Masitha \n",
        "#Assignment title/ description:\n",
        "#Exercise1.py to write a function that capitalizes the first and fourth letters of a name\n",
        "#Edit exercise2.py to produce the output below using string manipulation techniques\n",
        "#Exercise3.py to write code to extract the latitude and longitude from the URL in exercise3.py \n",
        "# Date: 21/02/2020\n",
        "\n",
        "def old_macdonald (string):\n",
        "  string = string[0].capitalize() + string[1:3] + string[3].capitalize() + string [4:]\n",
        "  return string\n",
        "\n",
        "print (old_macdonald(\"oldmacdonald\"))\n",
        "  "
      ],
      "execution_count": 95,
      "outputs": [
        {
          "output_type": "stream",
          "text": [
            "OldMacdonald\n"
          ],
          "name": "stdout"
        }
      ]
    },
    {
      "cell_type": "code",
      "metadata": {
        "id": "lWNTZkIR5O5g",
        "colab_type": "code",
        "outputId": "12d96a6c-213e-4776-8517-717825d0c4ff",
        "colab": {
          "base_uri": "https://localhost:8080/",
          "height": 119
        }
      },
      "source": [
        "#The multi-line string was scraped from the National Weather Service Website.\n",
        "#Edit this exercise to produce the output below using string manipulation techniques:\n",
        "\n",
        "#Tonight: Clear, Low: 55 F\n",
        "#Thursday: Sunny then Chance Showers, High: 77 F\n",
        "#Friday: Sunny, High: 73 F\n",
        "#Saturday: Mostly Sunny, High: 77 F\n",
        "#Sunday: Mostly Sunny, High: 71 F\n",
        "\n",
        "#Note: Copy the below code in the edit mode to retain the multi-line string formatting. There should be 39 lines of code when pasted in Python IDLE.\n",
        "\n",
        "# -*- coding: utf-8 -*-\n",
        "# Keep the line above when running script\n",
        "# Tells python what encoding the string is stored in\n",
        "\n",
        "# Scraped multi-line String\n",
        "forecast = '''\n",
        "\n",
        "Tonight\n",
        "ClearLow: 55 F\n",
        "\n",
        "Thursday\n",
        "Sunny thenChanceShowersHigh: 77 F\n",
        "\n",
        "Friday\n",
        "SunnyHigh: 73 F\n",
        "\n",
        "Saturday\n",
        "Mostly SunnyHigh: 77 F\n",
        "\n",
        "Sunday\n",
        "Mostly SunnyHigh: 71 F\n",
        "'''\n",
        "\n",
        "# Split string into a list\n",
        "# Use two blank lines (\\n\\n) as the separator\n",
        "# Creates a list item at every instance of separator\n",
        "# Loop through list to make string replacements to each item\n",
        "# Remove extra whitespaces or lines for a cleaner format\n",
        "\n",
        "import re\n",
        "forecast_list = forecast.split('\\n\\n')\n",
        "\n",
        "for day in forecast_list:\n",
        "    day = day.replace('\\n',': ')\n",
        "    glue = ' '\n",
        "    res = ''.join(glue + x if x.isupper() else x for x in day).strip(glue).split(glue)\n",
        "    result = ''\n",
        "    for element in res:\n",
        "        result += ' '+ str(element)\n",
        "    print(result)\n"
      ],
      "execution_count": 111,
      "outputs": [
        {
          "output_type": "stream",
          "text": [
            " \n",
            " Tonight:  Clear Low: 55  F\n",
            " Thursday:  Sunny then Chance Showers High: 77  F\n",
            " Friday:  Sunny High: 73  F\n",
            " Saturday:  Mostly  Sunny High: 77  F\n",
            " Sunday:  Mostly  Sunny High: 71  F:\n"
          ],
          "name": "stdout"
        }
      ]
    },
    {
      "cell_type": "code",
      "metadata": {
        "id": "fbc1BYnfEVve",
        "colab_type": "code",
        "colab": {}
      },
      "source": [
        "Tonight: Clear, Low: 55 F\n",
        "Thursday: Sunny then Chance Showers, High: 77 F\n",
        "Friday: Sunny, High: 73 F\n",
        "Saturday: Mostly Sunny, High: 77 F\n",
        "Sunday: Mostly Sunny, High: 71 F\n"
      ],
      "execution_count": 0,
      "outputs": []
    },
    {
      "cell_type": "code",
      "metadata": {
        "id": "ezz95oUHPREF",
        "colab_type": "code",
        "colab": {
          "base_uri": "https://localhost:8080/",
          "height": 51
        },
        "outputId": "685251a0-9bae-4949-ad1f-1730b56bb816"
      },
      "source": [
        "#working in colab\n",
        "# Import required libraries\n",
        "import requests\n",
        "from bs4 import BeautifulSoup\n",
        "\n",
        "# Provide the latitude and longitude for the location you would like to check the weather for\n",
        "# Lat/lon in decimal degrees provided for Worcester, MA\n",
        "lat = '42.2509428'\n",
        "lon = '-71.8249939'\n",
        "\n",
        "# Create url for the requested location through string concatenation\n",
        "url = 'https://forecast.weather.gov/MapClick.php?lat='+lat+\"&lon=\"+lon\n",
        "# Check if the URL exists\n",
        "# print url\n",
        "\n",
        "# Send request to retrieve the web-page using the get() function from the requests library\n",
        "# The page variable stores the response from the web-page\n",
        "page = requests.get(url)\n",
        "\n",
        "# Create a BeautifulSoup object with the response from the URL\n",
        "# Access contents of the web-page using .content\n",
        "# html_parser is used since our page is in HTML format\n",
        "soup=BeautifulSoup(page.content,\"html.parser\")\n",
        "\n",
        "# Locate element on page to be scraped\n",
        "# This element is located within an id tag called current_conditions-summary\n",
        "# find() locates the element in the BeautifulSoup object\n",
        "cur_weather_conditions = soup.find(id=\"current_conditions_detail\")\n",
        "\n",
        "# Extract text from the selected BeautifulSoup object using .text\n",
        "cur_weather_conditions = cur_weather_conditions.text\n",
        "\n",
        "# Final Output\n",
        "# Return scraped information\n",
        "print('Latitude:',lat)\n",
        "print('Longitude:', lon)"
      ],
      "execution_count": 119,
      "outputs": [
        {
          "output_type": "stream",
          "text": [
            "('Latitude:', '42.2509428')\n",
            "('Longitude:', '-71.8249939')\n"
          ],
          "name": "stdout"
        }
      ]
    }
  ]
}