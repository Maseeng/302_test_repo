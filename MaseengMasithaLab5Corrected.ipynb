{
  "nbformat": 4,
  "nbformat_minor": 0,
  "metadata": {
    "colab": {
      "name": "MaseengMasithaLab5Corrected.ipynb",
      "provenance": [],
      "collapsed_sections": [],
      "toc_visible": true,
      "authorship_tag": "ABX9TyNfq30malVLXHxjFpZzcmkx",
      "include_colab_link": true
    },
    "kernelspec": {
      "name": "python2",
      "display_name": "Python 2"
    }
  },
  "cells": [
    {
      "cell_type": "markdown",
      "metadata": {
        "id": "view-in-github",
        "colab_type": "text"
      },
      "source": [
        "<a href=\"https://colab.research.google.com/github/Maseeng/302_test_repo/blob/master/MaseengMasithaLab5Corrected.ipynb\" target=\"_parent\"><img src=\"https://colab.research.google.com/assets/colab-badge.svg\" alt=\"Open In Colab\"/></a>"
      ]
    },
    {
      "cell_type": "code",
      "metadata": {
        "id": "5cn1irtziZO4",
        "colab_type": "code",
        "colab": {
          "base_uri": "https://localhost:8080/",
          "height": 283
        },
        "outputId": "d3dfcbe3-148a-47a1-f2f9-29d1874f00ed"
      },
      "source": [
        "#Maseeng Masitha\n",
        "#28 February 2020\n",
        "#Python 3.4\n",
        "#IDCE 302 Lab 5: Transversing a dictionary\n",
        "\n",
        "\n",
        "refugee_count = {\"Kenya\": 39526, \"Yemen\": 9298, \"Malawi\": 4950, \"Sudan\": 8996, \"Bangladesh\": 10144}   #Creating a dictionary for country matched to number of individuals in camp, year 2006.4444\n",
        "                                                                                                      #This is the dictionary name to be taken in the function defined.\n",
        "#In order to show Keys only\n",
        "\n",
        "for (key) in refugee_count.keys():               # \"for\" loop through keys\n",
        "  print (key)\n",
        "\n",
        "\n",
        "#In order to show Values only\n",
        "\n",
        "for (value) in refugee_count.values():           #creating \"for\" loop through values\n",
        "  print (value)\n",
        "\n",
        "\n",
        "#Summary statements\n",
        "for key,value in refugee_count.items():\n",
        "  print(key,\"has\",value, \"refugees\" )"
      ],
      "execution_count": 7,
      "outputs": [
        {
          "output_type": "stream",
          "text": [
            "Sudan\n",
            "Kenya\n",
            "Yemen\n",
            "Malawi\n",
            "Bangladesh\n",
            "8996\n",
            "39526\n",
            "9298\n",
            "4950\n",
            "10144\n",
            "('Sudan', 'has', 8996, 'refugees')\n",
            "('Kenya', 'has', 39526, 'refugees')\n",
            "('Yemen', 'has', 9298, 'refugees')\n",
            "('Malawi', 'has', 4950, 'refugees')\n",
            "('Bangladesh', 'has', 10144, 'refugees')\n"
          ],
          "name": "stdout"
        }
      ]
    },
    {
      "cell_type": "code",
      "metadata": {
        "id": "qOsqfnZf5Ppu",
        "colab_type": "code",
        "colab": {}
      },
      "source": [
        ""
      ],
      "execution_count": 0,
      "outputs": []
    }
  ]
}