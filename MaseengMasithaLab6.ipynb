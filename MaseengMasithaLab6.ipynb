{
  "nbformat": 4,
  "nbformat_minor": 0,
  "metadata": {
    "colab": {
      "name": "MaseengMasithaLab6.ipynb",
      "provenance": [],
      "collapsed_sections": [],
      "toc_visible": true,
      "authorship_tag": "ABX9TyPp0FElQtBxpux1NvauTDRg",
      "include_colab_link": true
    },
    "kernelspec": {
      "name": "python2",
      "display_name": "Python 2"
    }
  },
  "cells": [
    {
      "cell_type": "markdown",
      "metadata": {
        "id": "view-in-github",
        "colab_type": "text"
      },
      "source": [
        "<a href=\"https://colab.research.google.com/github/Maseeng/302_test_repo/blob/master/MaseengMasithaLab6.ipynb\" target=\"_parent\"><img src=\"https://colab.research.google.com/assets/colab-badge.svg\" alt=\"Open In Colab\"/></a>"
      ]
    },
    {
      "cell_type": "code",
      "metadata": {
        "id": "5cn1irtziZO4",
        "colab_type": "code",
        "colab": {
          "base_uri": "https://localhost:8080/",
          "height": 327
        },
        "outputId": "790ec8f8-fbc0-43cd-a49e-939b1b1063cc"
      },
      "source": [
        "#Maseeng Masitha\n",
        "#28 February 2020\n",
        "#Python 3.4\n",
        "#IDCE 302 Lab 1: Transversing a dictionary\n",
        "\n",
        "\n",
        "refugee_count = {\"Kenya\": 39526, \"Yemen\": 9298, \"Malawi\": 4950, \"Sudan\": 8996, \"Bangladesh\": 10144}   #Creating a dictionary for country matched to number of individuals in camp, year 2006.4444\n",
        "                                                                                                      #This is the dictionary name to be taken in the function defined.\n",
        "# In order to show Key-value pairs\n",
        "def printDictionary(dicInput):\n",
        "  for (key, value) in dicInput.items():\n",
        "    print(key, value)\n",
        "printDictionary(refugee_count)\n",
        "\n",
        "# In order to show Keys only\n",
        "\n",
        "def printKeys(dicInput):                     #Defining function to print keys\n",
        "  for (key) in dicInput.keys():\n",
        "    print (key)\n",
        "print Keys(refugee_count)\n",
        "\n",
        "# In order to show Values only\n",
        "\n",
        "def printValues(dicInput):                   #Defining function to print values\n",
        "  for (value) in dicInput.values():\n",
        "    print (value)\n",
        "print Values(refugee_count)\n",
        "\n",
        "# Summary:\n",
        "print \"Country [0] has :\", refugees\n",
        "print \"Country [1] has :\", refugees\n",
        "print \"Country [2] has :\", refugees\n",
        "print \"Country [3] has :\", refugees\n",
        "print \"Country [4] has :\", refugees\n",
        "\n",
        "\n",
        "\n"
      ],
      "execution_count": 20,
      "outputs": [
        {
          "output_type": "stream",
          "text": [
            "('Sudan', 8996)\n",
            "('Kenya', 39526)\n",
            "('Yemen', 9298)\n",
            "('Malawi', 4950)\n",
            "('Bangladesh', 10144)\n"
          ],
          "name": "stdout"
        },
        {
          "output_type": "error",
          "ename": "NameError",
          "evalue": "ignored",
          "traceback": [
            "\u001b[0;31m\u001b[0m",
            "\u001b[0;31mNameError\u001b[0mTraceback (most recent call last)",
            "\u001b[0;32m<ipython-input-20-2df79d1b581b>\u001b[0m in \u001b[0;36m<module>\u001b[0;34m()\u001b[0m\n\u001b[1;32m     14\u001b[0m   \u001b[0;32mfor\u001b[0m \u001b[0;34m(\u001b[0m\u001b[0mkey\u001b[0m\u001b[0;34m)\u001b[0m \u001b[0;32min\u001b[0m \u001b[0mdicInput\u001b[0m\u001b[0;34m.\u001b[0m\u001b[0mkeys\u001b[0m\u001b[0;34m(\u001b[0m\u001b[0;34m)\u001b[0m\u001b[0;34m:\u001b[0m\u001b[0;34m\u001b[0m\u001b[0m\n\u001b[1;32m     15\u001b[0m     \u001b[0;32mprint\u001b[0m \u001b[0;34m(\u001b[0m\u001b[0mkey\u001b[0m\u001b[0;34m)\u001b[0m\u001b[0;34m\u001b[0m\u001b[0m\n\u001b[0;32m---> 16\u001b[0;31m \u001b[0;32mprint\u001b[0m \u001b[0mKeys\u001b[0m\u001b[0;34m(\u001b[0m\u001b[0mrefugee_count\u001b[0m\u001b[0;34m)\u001b[0m\u001b[0;34m\u001b[0m\u001b[0m\n\u001b[0m\u001b[1;32m     17\u001b[0m \u001b[0;34m\u001b[0m\u001b[0m\n\u001b[1;32m     18\u001b[0m \u001b[0;31m# In order to show Values only\u001b[0m\u001b[0;34m\u001b[0m\u001b[0;34m\u001b[0m\u001b[0m\n",
            "\u001b[0;31mNameError\u001b[0m: name 'Keys' is not defined"
          ]
        }
      ]
    },
    {
      "cell_type": "code",
      "metadata": {
        "id": "qOsqfnZf5Ppu",
        "colab_type": "code",
        "colab": {}
      },
      "source": [
        ""
      ],
      "execution_count": 0,
      "outputs": []
    }
  ]
}