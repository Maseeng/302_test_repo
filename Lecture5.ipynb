{
  "nbformat": 4,
  "nbformat_minor": 0,
  "metadata": {
    "colab": {
      "name": "Lecture5.ipynb",
      "provenance": [],
      "collapsed_sections": [],
      "authorship_tag": "ABX9TyOcL3kIYqNENwgqTXRghdGl",
      "include_colab_link": true
    },
    "kernelspec": {
      "name": "python3",
      "display_name": "Python 3"
    }
  },
  "cells": [
    {
      "cell_type": "markdown",
      "metadata": {
        "id": "view-in-github",
        "colab_type": "text"
      },
      "source": [
        "<a href=\"https://colab.research.google.com/github/Maseeng/302_test_repo/blob/master/Lecture5.ipynb\" target=\"_parent\"><img src=\"https://colab.research.google.com/assets/colab-badge.svg\" alt=\"Open In Colab\"/></a>"
      ]
    },
    {
      "cell_type": "code",
      "metadata": {
        "id": "YHwfEHfwnzVa",
        "colab_type": "code",
        "colab": {}
      },
      "source": [
        "#Maseeng Masitha\n",
        "#28 January 2020\n",
        "#Python 3.4\n",
        "#Lecture 5 \n"
      ],
      "execution_count": 0,
      "outputs": []
    },
    {
      "cell_type": "code",
      "metadata": {
        "id": "SRsyJ-VLygTA",
        "colab_type": "code",
        "colab": {
          "base_uri": "https://localhost:8080/",
          "height": 34
        },
        "outputId": "e399dbe1-130a-4e99-8545-ea03a950e2e0"
      },
      "source": [
        "#Modulus Operator\n",
        "% deivides two numbers and returns the remainder\n",
        "quotient = 7/3\n",
        "print(quotient)\n"
      ],
      "execution_count": 1,
      "outputs": [
        {
          "output_type": "stream",
          "text": [
            "2.3333333333333335\n"
          ],
          "name": "stdout"
        }
      ]
    },
    {
      "cell_type": "code",
      "metadata": {
        "id": "Btt2kRwMy79e",
        "colab_type": "code",
        "colab": {
          "base_uri": "https://localhost:8080/",
          "height": 34
        },
        "outputId": "9415e707-97fb-4ac6-f5e1-744a494b9bd5"
      },
      "source": [
        "remainder = 7% 3 #modulus operator\n",
        "print(remainder)\n"
      ],
      "execution_count": 2,
      "outputs": [
        {
          "output_type": "stream",
          "text": [
            "1\n"
          ],
          "name": "stdout"
        }
      ]
    },
    {
      "cell_type": "code",
      "metadata": {
        "id": "dh8cs9ErzKku",
        "colab_type": "code",
        "colab": {
          "base_uri": "https://localhost:8080/",
          "height": 34
        },
        "outputId": "c889615b-49cb-411e-e2a4-1055f4dca8d4"
      },
      "source": [
        "#Boolean Expressions\n",
        "6%3==0 #What's the output?\n"
      ],
      "execution_count": 5,
      "outputs": [
        {
          "output_type": "execute_result",
          "data": {
            "text/plain": [
              "True"
            ]
          },
          "metadata": {
            "tags": []
          },
          "execution_count": 5
        }
      ]
    },
    {
      "cell_type": "code",
      "metadata": {
        "id": "a0dMik_50MYo",
        "colab_type": "code",
        "colab": {
          "base_uri": "https://localhost:8080/",
          "height": 34
        },
        "outputId": "81384596-1c47-4131-b2fa-9d2b1827f83d"
      },
      "source": [
        "7%3==0 #What's the output?"
      ],
      "execution_count": 6,
      "outputs": [
        {
          "output_type": "execute_result",
          "data": {
            "text/plain": [
              "False"
            ]
          },
          "metadata": {
            "tags": []
          },
          "execution_count": 6
        }
      ]
    },
    {
      "cell_type": "code",
      "metadata": {
        "id": "8TUIY6zH0cAQ",
        "colab_type": "code",
        "colab": {}
      },
      "source": [
        "#Above= lead to logical expressions \n"
      ],
      "execution_count": 0,
      "outputs": []
    },
    {
      "cell_type": "code",
      "metadata": {
        "id": "8WaXNbmk1Kf6",
        "colab_type": "code",
        "colab": {}
      },
      "source": [
        "x== area > 154 and suitability > 0.9"
      ],
      "execution_count": 0,
      "outputs": []
    },
    {
      "cell_type": "code",
      "metadata": {
        "id": "1w2i17Qi1hHS",
        "colab_type": "code",
        "colab": {
          "base_uri": "https://localhost:8080/",
          "height": 34
        },
        "outputId": "e098eb0b-fa4d-4ad4-e246-65f136be8f08"
      },
      "source": [
        "#Negating an expression\n",
        "not (5>10)"
      ],
      "execution_count": 7,
      "outputs": [
        {
          "output_type": "execute_result",
          "data": {
            "text/plain": [
              "True"
            ]
          },
          "metadata": {
            "tags": []
          },
          "execution_count": 7
        }
      ]
    },
    {
      "cell_type": "code",
      "metadata": {
        "id": "xLAc5T991x8D",
        "colab_type": "code",
        "colab": {
          "base_uri": "https://localhost:8080/",
          "height": 34
        },
        "outputId": "062992b2-d6eb-4bab-cf87-08e79c2e00e3"
      },
      "source": [
        "#Conditional execution\n",
        "#The following is an \"if\" statement\n",
        "water_per_person = 20 # in litres per day according to SPHERE standards.\n",
        "if water_per_person>19:\n",
        "  print(\"water_per_person, :post emergency levels.\")\n"
      ],
      "execution_count": 15,
      "outputs": [
        {
          "output_type": "stream",
          "text": [
            "water_per_person, :post emergency levels.\n"
          ],
          "name": "stdout"
        }
      ]
    },
    {
      "cell_type": "code",
      "metadata": {
        "id": "VsywQcGn3D7d",
        "colab_type": "code",
        "colab": {
          "base_uri": "https://localhost:8080/",
          "height": 34
        },
        "outputId": "7beba9be-9421-4e2e-8381-07da9ec1eca7"
      },
      "source": [
        "x = 16\n",
        "if x %2 ==0:\n",
        "  print(\"x is even.\")\n",
        "else:\n",
        "  print(\"x is odd.\")\n"
      ],
      "execution_count": 14,
      "outputs": [
        {
          "output_type": "stream",
          "text": [
            "x is even.\n"
          ],
          "name": "stdout"
        }
      ]
    },
    {
      "cell_type": "code",
      "metadata": {
        "id": "wov7iOsY3uFW",
        "colab_type": "code",
        "colab": {
          "base_uri": "https://localhost:8080/",
          "height": 34
        },
        "outputId": "35dd2bf8-8185-49b1-a224-8c90956c5bf2"
      },
      "source": [
        "#Exercise 1\n",
        "#Defining a function\n",
        "def tide (m):\n",
        "  if m %2 == 1:\n",
        "    print (\"tide is high.\")\n",
        "  else:\n",
        "    print (\"tide is low.\")\n",
        "tide(8)"
      ],
      "execution_count": 26,
      "outputs": [
        {
          "output_type": "stream",
          "text": [
            "tide is low.\n"
          ],
          "name": "stdout"
        }
      ]
    },
    {
      "cell_type": "code",
      "metadata": {
        "id": "n86bIw1V9ruZ",
        "colab_type": "code",
        "colab": {}
      },
      "source": [
        "def print_parity(n):\n",
        "  if n % 2 == 0:\n",
        "    print (n,\"is an even number.\")\n",
        "  else:\n",
        "      print (n, \"is an odd number.\")\n",
        "\n",
        "\n",
        "\n"
      ],
      "execution_count": 0,
      "outputs": []
    },
    {
      "cell_type": "code",
      "metadata": {
        "id": "YFc4AOUj-dj6",
        "colab_type": "code",
        "colab": {}
      },
      "source": [
        "# Comment code...\n",
        "def ifequal(x,y):\n",
        "  "
      ],
      "execution_count": 0,
      "outputs": []
    },
    {
      "cell_type": "code",
      "metadata": {
        "id": "UDJ_NK-k-vSB",
        "colab_type": "code",
        "colab": {
          "base_uri": "https://localhost:8080/",
          "height": 34
        },
        "outputId": "a6add5c0-0a20-4114-93ae-f3ff156ed1de"
      },
      "source": [
        "#Nested conditionals\n",
        "def ifequal(x,y):\n",
        "  if x < y:\n",
        "    print (x, \"is less than\", y) \n",
        "  elif x > y:\n",
        "    print (x, \"is greater than\", y)\n",
        "  else:\n",
        "    print (x, \"is equal to\", y)\n",
        "  \n",
        "ifequal (9,10)\n"
      ],
      "execution_count": 30,
      "outputs": [
        {
          "output_type": "stream",
          "text": [
            "9 is less than 10\n"
          ],
          "name": "stdout"
        }
      ]
    }
  ]
}